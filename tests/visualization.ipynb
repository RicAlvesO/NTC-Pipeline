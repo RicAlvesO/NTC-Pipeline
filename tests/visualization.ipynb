{
 "cells": [
  {
   "cell_type": "markdown",
   "metadata": {},
   "source": [
    "# Setup"
   ]
  },
  {
   "cell_type": "code",
   "execution_count": null,
   "metadata": {},
   "outputs": [],
   "source": [
    "%pip install pyshark\n",
    "%pip install nest_asyncio\n",
    "%pip install pandas"
   ]
  },
  {
   "cell_type": "code",
   "execution_count": 1,
   "metadata": {},
   "outputs": [],
   "source": [
    "import pandas as pd\n",
    "import nest_asyncio\n",
    "nest_asyncio.apply()\n",
    "run_seed=0"
   ]
  },
  {
   "cell_type": "code",
   "execution_count": 2,
   "metadata": {},
   "outputs": [],
   "source": [
    "import sys\n",
    "sys.path.append('..')\n",
    "from src.visualization.visualization import Visualization\n",
    "from src.preprocessors.pcap_preprocessor import PcapPreprocessor\n",
    "from tabulate import tabulate\n",
    "\n",
    "preprocessor = PcapPreprocessor()\n",
    "visualization = Visualization()"
   ]
  },
  {
   "cell_type": "code",
   "execution_count": 3,
   "metadata": {},
   "outputs": [],
   "source": [
    "base_data = preprocessor.get_all_data()"
   ]
  },
  {
   "cell_type": "markdown",
   "metadata": {},
   "source": [
    "# Visualization"
   ]
  },
  {
   "cell_type": "code",
   "execution_count": null,
   "metadata": {},
   "outputs": [],
   "source": [
    "res = preprocessor.get_database_information()\n",
    "datasets_info = res['datasets']\n",
    "labels_info = res['labels']"
   ]
  },
  {
   "cell_type": "code",
   "execution_count": null,
   "metadata": {},
   "outputs": [],
   "source": [
    "pd.DataFrame(datasets_info)"
   ]
  },
  {
   "cell_type": "code",
   "execution_count": null,
   "metadata": {},
   "outputs": [],
   "source": [
    "pd.DataFrame(labels_info)"
   ]
  },
  {
   "cell_type": "markdown",
   "metadata": {},
   "source": [
    "##### Get geral information"
   ]
  },
  {
   "cell_type": "code",
   "execution_count": null,
   "metadata": {},
   "outputs": [],
   "source": [
    "print(base_data.info())"
   ]
  },
  {
   "cell_type": "markdown",
   "metadata": {},
   "source": [
    "##### Get Column information"
   ]
  },
  {
   "cell_type": "code",
   "execution_count": null,
   "metadata": {},
   "outputs": [],
   "source": [
    "visualization.column_info(base_data)"
   ]
  },
  {
   "cell_type": "code",
   "execution_count": null,
   "metadata": {},
   "outputs": [],
   "source": [
    "# Get the columns that are common in all datasets\n",
    "common_columns = visualization.find_common_columns_from_datasets(base_data)\n",
    "common_columns.sort()\n",
    "print(common_columns)\n",
    "len(common_columns)"
   ]
  },
  {
   "cell_type": "markdown",
   "metadata": {},
   "source": [
    "##### Get n first rows"
   ]
  },
  {
   "cell_type": "code",
   "execution_count": null,
   "metadata": {},
   "outputs": [],
   "source": [
    "visualization.first_x_rows(base_data, 5)"
   ]
  },
  {
   "cell_type": "code",
   "execution_count": null,
   "metadata": {},
   "outputs": [],
   "source": [
    "base_data.head()"
   ]
  },
  {
   "cell_type": "markdown",
   "metadata": {},
   "source": [
    "##### Distribution of the datasets"
   ]
  },
  {
   "cell_type": "code",
   "execution_count": null,
   "metadata": {},
   "outputs": [],
   "source": [
    "visualization.plot_dataset_counts(base_data)"
   ]
  },
  {
   "cell_type": "markdown",
   "metadata": {},
   "source": [
    "##### Distribution of classification"
   ]
  },
  {
   "cell_type": "code",
   "execution_count": null,
   "metadata": {},
   "outputs": [],
   "source": [
    "visualization.plot_label_counts(base_data)"
   ]
  },
  {
   "cell_type": "markdown",
   "metadata": {},
   "source": [
    "##### Correlation Matrix"
   ]
  },
  {
   "cell_type": "code",
   "execution_count": null,
   "metadata": {},
   "outputs": [],
   "source": [
    "high_correlation = visualization.plot_correlation_matrix(base_data, high_corr_threshold=0.8)\n",
    "print(high_correlation)"
   ]
  },
  {
   "cell_type": "markdown",
   "metadata": {},
   "source": [
    "##### Distribution of different features"
   ]
  },
  {
   "cell_type": "code",
   "execution_count": null,
   "metadata": {},
   "outputs": [],
   "source": [
    "visualization.plot_tcp_source_ports(base_data)"
   ]
  },
  {
   "cell_type": "code",
   "execution_count": null,
   "metadata": {},
   "outputs": [],
   "source": [
    "visualization.plot_udp_source_ports(base_data)"
   ]
  },
  {
   "cell_type": "code",
   "execution_count": null,
   "metadata": {},
   "outputs": [],
   "source": [
    "visualization.plot_top_ip_addresses(base_data)"
   ]
  },
  {
   "cell_type": "code",
   "execution_count": null,
   "metadata": {},
   "outputs": [],
   "source": [
    "visualization.plot_top_ip_dest_addresses(base_data)"
   ]
  },
  {
   "cell_type": "code",
   "execution_count": null,
   "metadata": {},
   "outputs": [],
   "source": [
    "visualization.plot_tcp_flags_distribution(base_data)"
   ]
  },
  {
   "cell_type": "code",
   "execution_count": null,
   "metadata": {},
   "outputs": [],
   "source": [
    "visualization.plot_dns_queries(base_data)"
   ]
  },
  {
   "cell_type": "code",
   "execution_count": null,
   "metadata": {},
   "outputs": [],
   "source": [
    "visualization.plot_tcp_stream_time_series(base_data)"
   ]
  },
  {
   "cell_type": "code",
   "execution_count": null,
   "metadata": {},
   "outputs": [],
   "source": [
    "# See distribution of the all columns\n",
    "# visualization.plot_distribution(bd_data)"
   ]
  },
  {
   "cell_type": "markdown",
   "metadata": {},
   "source": [
    "##### Clean the data - missing values"
   ]
  },
  {
   "cell_type": "code",
   "execution_count": null,
   "metadata": {},
   "outputs": [],
   "source": [
    "base_data_cleaned = visualization.filter_columns_by_missing_values(base_data, 1)"
   ]
  },
  {
   "cell_type": "code",
   "execution_count": null,
   "metadata": {},
   "outputs": [],
   "source": [
    "visualization.plot_missing_values_heatmap(base_data_cleaned)"
   ]
  },
  {
   "cell_type": "code",
   "execution_count": 4,
   "metadata": {},
   "outputs": [
    {
     "name": "stdout",
     "output_type": "stream",
     "text": [
      "Columns with 0% Missing Values: ['_id', 'dataset', 'label']\n",
      "Columns with >50.0% Missing Values: ['sll.ltype', 'DATA.data', 'DATA.data_data', 'DATA.data_len', 'eth.dst_oui_resolved', 'sll.etype', 'ip.geodst_summary', 'ip.geodst_city', 'ip.geocity', 'ip.geodst_country', 'ip.geocountry', 'ip.geodst_country_iso', 'ip.geocountry_iso', 'ip.geodst_lat', 'ip.geolat', 'ip.geodst_lon', 'ip.geolon', 'tcp.window_size_scalefactor', 'tcp.options', 'tcp.options_nop', 'tcp.option_kind', 'tcp.options_timestamp', 'tcp.option_len', 'tcp.options_timestamp_tsval', 'tcp.options_timestamp_tsecr', 'tcp.analysis', 'tcp.analysis_bytes_in_flight', 'tcp.analysis_push_bytes_sent', 'tcp.payload', 'tcp.pdu_size', 'mqtt._ws_expert', 'mqtt.unknown_version', 'mqtt._ws_expert_message', 'mqtt._ws_expert_severity', 'mqtt._ws_expert_group', 'mqtt.hdrflags', 'mqtt.msgtype', 'mqtt.dupflag', 'mqtt.qos', 'mqtt.retain', 'mqtt.len', 'mqtt.topic_len', 'mqtt.topic', 'mqtt.msgid', 'mqtt.msg', 'icmp.type', 'icmp.code', 'icmp.checksum', 'icmp.checksum_status', 'icmp.ident', 'icmp.ident_le', 'icmp.seq', 'icmp.seq_le', 'icmp.data_time', 'icmp.data_time_relative', 'icmp.data', 'icmp.data_data', 'icmp.data_len', 'icmp.resp_to', 'icmp.resptime', 'sll.eth_padding', 'sll.trailer', 'tcp.analysis_acks_frame', 'tcp.analysis_ack_rtt', 'arp.hw_type', 'arp.proto_type', 'arp.hw_size', 'arp.proto_size', 'arp.opcode', 'arp.src_hw_mac', 'arp.src_proto_ipv4', 'arp.dst_hw_mac', 'arp.dst_proto_ipv4', 'ip.geosrc_summary', 'ip.geosrc_city', 'ip.geosrc_country', 'ip.geosrc_country_iso', 'ip.geosrc_lat', 'ip.geosrc_lon', 'mqtt.hdr_reserved', 'rpcap.version', 'rpcap.type', 'rpcap.error_value', 'rpcap.len', 'rpcap.error', 'rpcap._ws_expert', 'rpcap._ws_string_trailing_stray_characters', 'rpcap._ws_expert_message', 'rpcap._ws_expert_severity', 'rpcap._ws_expert_group', 'rpcap.error_expert', 'rpcap.value', 'tcp.segment_data', 'DATA.tcp_segments', 'DATA.tcp_segment', 'DATA.tcp_segment_count', 'DATA.tcp_reassembled_length', 'DATA.tcp_reassembled_data', 'tcp.analysis_flags', 'tcp._ws_expert', 'tcp.analysis_retransmission', 'tcp._ws_expert_message', 'tcp._ws_expert_severity', 'tcp._ws_expert_group', 'tcp.analysis_rto', 'tcp.analysis_rto_frame', 'tcp.options_sack', 'tcp.options_sack_le', 'tcp.options_sack_re', 'tcp.options_sack_count', 'tcp.options_sack_dsack_le', 'tcp.options_sack_dsack_re', 'tcp.options_sack_dsack', 'tcp.analysis_duplicate_ack', 'tcp.analysis_duplicate_ack_num', 'tcp.analysis_duplicate_ack_frame', 'ipv6.version', 'ipv6.ip_version', 'ipv6.tclass', 'ipv6.tclass_dscp', 'ipv6.tclass_ecn', 'ipv6.flow', 'ipv6.plen', 'ipv6.nxt', 'ipv6.hlim', 'ipv6.src', 'ipv6.addr', 'ipv6.src_host', 'ipv6.host', 'ipv6.dst', 'ipv6.dst_host', 'ipv6.src_slaac_mac', 'ipv6.slaac_mac', 'ipv6.dst_slaac_mac', 'icmpv6.type', 'icmpv6.code', 'icmpv6.checksum', 'icmpv6.checksum_status', 'icmpv6.reserved', 'icmpv6.nd_ns_target_address', 'icmpv6.opt', 'icmpv6.opt_type', 'icmpv6.opt_length', 'icmpv6.opt_linkaddr', 'icmpv6.opt_src_linkaddr', 'icmpv6.nd_na_flag', 'icmpv6.nd_na_flag_r', 'icmpv6.nd_na_flag_s', 'icmpv6.nd_na_flag_o', 'icmpv6.nd_na_flag_rsv', 'icmpv6.nd_na_target_address', 'tls.record', 'tls.record_content_type', 'tls.record_version', 'tls.record_length', 'tls.app_data', 'tls.app_data_proto', 'ip._ws_expert', 'ip.bogus_ip_version', 'ip._ws_expert_message', 'ip._ws_expert_severity', 'ip._ws_expert_group', 'udp.srcport', 'udp.dstport', 'udp.port', 'udp.length', 'udp.checksum', 'udp.checksum_status', 'udp.stream', 'udp.', 'udp.time_relative', 'udp.time_delta', 'udp.payload', 'tcp.analysis_ack_lost_segment', 'nbdgm.type', 'nbdgm.flags', 'nbdgm.next', 'nbdgm.first', 'nbdgm.node_type', 'nbdgm.dgram_id', 'nbdgm.src_ip', 'nbdgm.src_port', 'nbdgm.dgram_len', 'nbdgm.pkt_offset', 'nbdgm.source_name', 'nbdgm.destination_name', 'smb.', 'smb.server_component', 'smb.cmd', 'smb.error_class', 'smb.reserved', 'smb.error_code', 'smb.flags', 'smb.flags_response', 'smb.flags_notify', 'smb.flags_oplock', 'smb.flags_canon', 'smb.flags_caseless', 'smb.flags_receive_buffer', 'smb.flags_lock', 'smb.flags2', 'smb.flags2_string', 'smb.flags2_nt_error', 'smb.flags2_roe', 'smb.flags2_dfs', 'smb.flags2_esn', 'smb.flags2_reparse_path', 'smb.flags2_long_names_used', 'smb.flags2_sec_sig_required', 'smb.flags2_compressed', 'smb.flags2_sec_sig', 'smb.flags2_ea', 'smb.flags2_long_names_allowed', 'smb.pid_high', 'smb.signature', 'smb.tid', 'smb.pid', 'smb.uid', 'smb.mid', 'smb.wct', 'smb.tpc', 'smb.tdc', 'smb.mpc', 'smb.mdc', 'smb.msc', 'smb.transaction_flags', 'smb.transaction_flags_owt', 'smb.transaction_flags_dtid', 'smb.timeout', 'smb.pc', 'smb.po', 'smb.dc', 'smb.data_offset', 'smb.sc', 'smb.bcc', 'smb.trans_name', 'mailslot.opcode', 'mailslot.priority', 'mailslot.class', 'mailslot.size', 'mailslot.name', 'browser.command', 'browser.update_count', 'browser.period', 'browser.server', 'browser.windows_version', 'browser.os_major', 'browser.os_minor', 'browser.server_type', 'browser.server_type_workstation', 'browser.server_type_server', 'browser.server_type_sql', 'browser.server_type_domain_controller', 'browser.server_type_backup_controller', 'browser.server_type_time', 'browser.server_type_apple', 'browser.server_type_novell', 'browser.server_type_member', 'browser.server_type_print', 'browser.server_type_dialin', 'browser.server_type_xenix', 'browser.server_type_ntw', 'browser.server_type_wfw', 'browser.server_type_nts', 'browser.server_type_potential', 'browser.server_type_backup', 'browser.server_type_master', 'browser.server_type_domain_master', 'browser.server_type_osf', 'browser.server_type_vms', 'browser.server_type_w95', 'browser.server_type_dfs', 'browser.server_type_local', 'browser.server_type_domainenum', 'browser.mysterious_field', 'browser.mb_server', 'ssdp.', 'ssdp._ws_expert', 'ssdp.http_chat', 'ssdp._ws_expert_message', 'ssdp._ws_expert_severity', 'ssdp._ws_expert_group', 'ssdp.http_request_method', 'ssdp.http_request_uri', 'ssdp.http_request_version', 'ssdp.http_host', 'ssdp.http_request_line', 'ssdp.http_request_full_uri', 'ssdp.http_request', 'ssdp.http_request_number', 'ssdp.http_prev_request_in', 'tls.alert_message', 'tls.', 'tls._ws_expert', 'tls.ignored_unknown_record', 'tls._ws_expert_message', 'tls._ws_expert_severity', 'tls._ws_expert_group', 'tcp.connection_fin', 'tcp.connection_fin_active', 'tcp.connection_fin_passive', 'mdns.dns_id', 'mdns.dns_flags', 'mdns.dns_flags_response', 'mdns.dns_flags_opcode', 'mdns.dns_flags_truncated', 'mdns.dns_flags_recdesired', 'mdns.dns_flags_z', 'mdns.dns_flags_checkdisable', 'mdns.dns_count_queries', 'mdns.dns_count_answers', 'mdns.dns_count_auth_rr', 'mdns.dns_count_add_rr', 'mdns.', 'mdns.dns_qry_name', 'mdns.dns_qry_name_len', 'mdns.dns_count_labels', 'mdns.dns_qry_type', 'mdns.dns_qry_class', 'mdns.dns_qry_qu', 'mdns.dns_flags_authoritative', 'mdns.dns_flags_recavail', 'mdns.dns_flags_authenticated', 'mdns.dns_flags_rcode', 'mdns.dns_resp_name', 'mdns.dns_resp_type', 'mdns.dns_resp_class', 'mdns.dns_resp_cache_flush', 'mdns.dns_resp_ttl', 'mdns.dns_resp_len', 'mdns.dns_ptr_domain_name', 'mdns.dns_a', 'mdns.dns_aaaa', 'mdns.dns_nsec_next_domain_name', 'mdns.dns_unsolicited', 'ip.', 'ip.options_routeralert', 'ip.opt_type', 'ip.opt_type_copy', 'ip.opt_type_class', 'ip.opt_type_number', 'ip.opt_len', 'ip.opt_ra', 'igmp.version', 'igmp.type', 'igmp.max_resp', 'igmp.checksum', 'igmp.checksum_status', 'igmp.maddr', 'dns.id', 'dns.flags', 'dns.flags_response', 'dns.flags_opcode', 'dns.flags_truncated', 'dns.flags_recdesired', 'dns.flags_z', 'dns.flags_checkdisable', 'dns.count_queries', 'dns.count_answers', 'dns.count_auth_rr', 'dns.count_add_rr', 'dns.', 'dns.qry_name', 'dns.qry_name_len', 'dns.count_labels', 'dns.qry_type', 'dns.qry_class', 'dns.flags_authoritative', 'dns.flags_recavail', 'dns.flags_authenticated', 'dns.flags_rcode', 'dns.response_to', 'dns.time', 'tcp.analysis_lost_segment', 'http.', 'http._ws_expert', 'http.chat', 'http._ws_expert_message', 'http._ws_expert_severity', 'http._ws_expert_group', 'http.request_method', 'http.request_uri', 'http.request_version', 'http.host', 'http.request_line', 'http.user_agent', 'http.accept', 'http.accept_language', 'http.accept_encoding', 'http.cache_control', 'http.connection', 'http.request_full_uri', 'http.request', 'http.request_number', 'http.response_version', 'http.response_code', 'http.response_code_desc', 'http.response_phrase', 'http.content_type', 'http.response_line', 'http.content_length_header', 'http.content_length', 'http.last_modified', 'http.server', 'http.date', 'http.response', 'http.response_number', 'http.time', 'http.request_in', 'http.response_for_uri', 'http.file_data', 'data-text-lines.', 'dns.resp_name', 'dns.resp_type', 'dns.resp_class', 'dns.resp_ttl', 'dns.resp_len', 'dns.cname', 'dns.a', 'dns.aaaa', 'http.prev_request_in', 'http.prev_response_in', 'tcp.analysis_keep_alive', 'tcp.analysis_keep_alive_ack', 'ip.ttl_lncb', 'mdns._ws_expert', 'mdns.dns_retransmit_request', 'mdns._ws_expert_message', 'mdns._ws_expert_severity', 'mdns._ws_expert_group', 'mdns.dns_retransmit_request_in', 'mdns.dns_retransmission', 'llmnr.dns_id', 'llmnr.dns_flags', 'llmnr.dns_flags_response', 'llmnr.dns_flags_opcode', 'llmnr.dns_flags_conflict', 'llmnr.dns_flags_truncated', 'llmnr.dns_flags_tentative', 'llmnr.dns_count_queries', 'llmnr.dns_count_answers', 'llmnr.dns_count_auth_rr', 'llmnr.dns_count_add_rr', 'llmnr.', 'llmnr.dns_qry_name', 'llmnr.dns_qry_name_len', 'llmnr.dns_count_labels', 'llmnr.dns_qry_type', 'llmnr.dns_qry_class', 'llmnr._ws_expert', 'llmnr.dns_retransmit_request', 'llmnr._ws_expert_message', 'llmnr._ws_expert_severity', 'llmnr._ws_expert_group', 'llmnr.dns_retransmit_request_in', 'llmnr.dns_retransmission', 'mdns.dns_response_to', 'mdns.dns_time', 'mdns.dns_retransmit_response', 'mdns.dns_retransmit_response_in', 'dns.rr_udp_payload_size', 'dns.resp_ext_rcode', 'dns.resp_edns0_version', 'dns.resp_z', 'dns.resp_z_do', 'dns.resp_z_reserved', 'dns.soa_mname', 'dns.soa_rname', 'dns.soa_serial_number', 'dns.soa_refresh_interval', 'dns.soa_retry_interval', 'dns.soa_expire_limit', 'dns.soa_minimum_ttl', 'dns.rrsig_type_covered', 'dns.rrsig_algorithm', 'dns.rrsig_labels', 'dns.rrsig_original_ttl', 'dns.rrsig_signature_expiration', 'dns.rrsig_signature_inception', 'dns.rrsig_key_tag', 'dns.rrsig_signers_name', 'dns.rrsig_signature', 'dns.nsec_next_domain_name', 'tcp.connection_syn', 'tcp.options_mss', 'tcp.options_mss_val', 'tcp.options_wscale', 'tcp.options_wscale_shift', 'tcp.options_wscale_multiplier', 'tcp.options_sack_perm', 'tcp.connection_synack', 'tcp.analysis_initial_rtt', 'xml.xmlpi_xml', 'xml.xmlpi_version', 'xml.', 'xml.tag', 'xml.attribute', 'xml.cdata', 'image-jfif.marker', 'image-jfif.marker_segment', 'image-jfif.length', 'image-jfif.identifier', 'image-jfif.version', 'image-jfif.version_major', 'image-jfif.version_minor', 'image-jfif.units', 'image-jfif.xdensity', 'image-jfif.ydensity', 'image-jfif.xthumbnail', 'image-jfif.ythumbnail', 'image-jfif.endianness', 'image-jfif.start_ifd_offset', 'image-jfif.', 'image-jfif.ifd_num_fields', 'image-jfif.ifd_tag', 'image-jfif.ifd_type', 'image-jfif.ifd_count', 'image-jfif.ifd_offset', 'image-jfif.ifd_value_short', 'image-jfif.next_ifd_offset', 'image-jfif.ifd_value_rational', 'image-jfif.ifd_value_rational_numerator', 'image-jfif.ifd_value_rational_denominator', 'image-jfif.ifd_value_ascii', 'image-jfif.remain_seg_data', 'image-jfif.sof', 'image-jfif.sof_precision', 'image-jfif.sof_lines', 'image-jfif.sof_samples_per_line', 'image-jfif.sof_nf', 'image-jfif.sof_c_i', 'image-jfif.sof_h_i', 'image-jfif.sof_v_i', 'image-jfif.sof_tq_i', 'image-jfif.header_sos', 'image-jfif.sos_ns', 'image-jfif.sos_component_selector', 'image-jfif.sos_dc_entropy_selector', 'image-jfif.sos_ac_entropy_selector', 'image-jfif.sos_ss', 'image-jfif.sos_se', 'image-jfif.sos_ah', 'image-jfif.sos_al', 'image-jfif.entropy_coded_segment', 'png.signature', 'png.', 'png.chunk_len', 'png.chunk_type', 'png.chunk_flag_ancillary', 'png.chunk_flag_private', 'png.chunk_flag_stc', 'png.ihdr_width', 'png.ihdr_height', 'png.ihdr_bitdepth', 'png.ihdr_colour_type', 'png.ihdr_compression_method', 'png.ihdr_filter_method', 'png.ihdr_interlace_method', 'png.chunk_crc', 'png.chunk_data', 'xml.xmlpi_encoding', 'tcp.analysis_spurious_retransmission', 'http.transfer_encoding', 'http.chunk_size', 'http.chunk_data', 'http.chunk_boundary', 'tcp.connection_rst', 'mdns.dns_rr_udp_payload_size', 'mdns.dns_resp_ext_rcode', 'mdns.dns_resp_edns0_version', 'mdns.dns_resp_z', 'mdns.dns_resp_z_do', 'mdns.dns_resp_z_reserved', 'mdns.dns_opt', 'mdns.dns_opt_code', 'mdns.dns_opt_len', 'mdns.dns_opt_data', 'ntp.flags', 'ntp.flags_li', 'ntp.flags_vn', 'ntp.flags_mode', 'ntp.stratum', 'ntp.ppoll', 'ntp.precision', 'ntp.rootdelay', 'ntp.rootdispersion', 'ntp.refid', 'ntp.reftime', 'ntp.org', 'ntp.rec', 'ntp.xmt', 'ssdp.http_cache_control', 'ssdp.http_unknown_header', 'ssdp.http_location', 'ssdp.http_server', 'ssdp.http_notification', 'DATA.', 'DATA.arp_duplicate_address_frame', 'DATA._ws_expert', 'DATA.arp_duplicate_address_detected', 'DATA._ws_expert_message', 'DATA._ws_expert_severity', 'DATA._ws_expert_group', 'DATA.arp_seconds_since_duplicate_address_frame', 'dns._ws_expert', 'dns.retransmit_request', 'dns._ws_expert_message', 'dns._ws_expert_severity', 'dns._ws_expert_group', 'dns.retransmit_request_in', 'dns.retransmission', 'dns.ns', 'dns.nsec3_algo', 'dns.nsec3_flags', 'dns.nsec3_flags_opt_out', 'dns.nsec3_iterations', 'dns.nsec3_salt_length', 'dns.nsec3_salt_value', 'dns.nsec3_hash_length', 'dns.nsec3_hash_value', 'dns.ds_key_id', 'dns.ds_algorithm', 'dns.ds_digest_type', 'dns.ds_digest', 'dns.dnskey_flags', 'dns.dnskey_flags_zone_key', 'dns.dnskey_flags_key_revoked', 'dns.dnskey_flags_secure_entry_point', 'dns.dnskey_flags_reserved', 'dns.dnskey_protocol', 'dns.dnskey_algorithm', 'dns.dnskey_key_id', 'dns.dnskey_public_key', 'dns.retransmit_response', 'dns.retransmit_response_in', 'whois.query', 'whois.answer_to', 'whois.response_time', 'whois.answer', 'whois.', 'whois._ws_expert', 'whois.encoding', 'whois._ws_expert_message', 'whois._ws_expert_severity', 'whois._ws_expert_group', 'udp._ws_expert', 'udp.possible_traceroute', 'udp._ws_expert_message', 'udp._ws_expert_severity', 'udp._ws_expert_group', 'tcp.options_eol', 'tcp.ack_nonzero', 'eth.padding', 'browser.proto_major', 'browser.proto_minor', 'browser.sig', 'browser.comment', 'dns.ptr_domain_name', 'tcp.analysis_reused_ports', 'http.request_uri_path', 'http.request_uri_query', 'http.request_uri_query_parameter', 'http.referer', 'http.cookie', 'http.cookie_pair', 'tcp.analysis_window_update', 'dns.length', 'http.unknown_header', 'dns.unsolicited', 'tcp.analysis_fast_retransmission', 'tcp.analysis_out_of_order', 'ssdp.http_date', 'ip.fragments', 'ip.fragment', 'ip.fragment_count', 'ip.reassembled_length', 'ip.reassembled_data', 'tls.handshake', 'tls.handshake_type', 'tls.handshake_length', 'tls.handshake_version', 'tls.handshake_random', 'tls.handshake_random_time', 'tls.handshake_random_bytes', 'tls.handshake_session_id_length', 'tls.handshake_cipher_suites_length', 'tls.handshake_ciphersuites', 'tls.handshake_ciphersuite', 'tls.handshake_comp_methods_length', 'tls.handshake_comp_methods', 'tls.handshake_comp_method', 'tls.handshake_extensions_length', 'tls.handshake_extension_type', 'tls.handshake_extension_len', 'tls.handshake_extensions_server_name_list_len', 'tls.handshake_extensions_server_name_type', 'tls.handshake_extensions_server_name_len', 'tls.handshake_extensions_server_name', 'tls.handshake_extensions_status_request_type', 'tls.handshake_extensions_status_request_responder_ids_len', 'tls.handshake_extensions_status_request_exts_len', 'tls.handshake_extensions_supported_groups_length', 'tls.handshake_extensions_supported_groups', 'tls.handshake_extensions_supported_group', 'tls.handshake_extensions_ec_point_formats_length', 'tls.handshake_extensions_ec_point_formats', 'tls.handshake_extensions_ec_point_format', 'tls.handshake_ja3_full', 'tls.handshake_ja3', 'tls.handshake_session_id', 'tls.handshake_ja3s_full', 'tls.handshake_ja3s', 'tls.handshake_ocsp_response_len', 'tls.ocsp_responsestatus', 'tls.ocsp_responsebytes_element', 'tls.ocsp_responsetype_id', 'tls.ocsp_basicocspresponse_element', 'tls.ocsp_tbsresponsedata_element', 'tls.ocsp_responderid', 'tls.ocsp_bykey', 'tls.ocsp_producedat', 'tls.ocsp_responses', 'tls.ocsp_singleresponse_element', 'tls.ocsp_certid_element', 'tls.ocsp_hashalgorithm_element', 'tls.x509af_algorithm_id', 'tls.ocsp_issuernamehash', 'tls.ocsp_issuerkeyhash', 'tls.ocsp_serialnumber', 'tls.ocsp_certstatus', 'tls.ocsp_good_element', 'tls.ocsp_thisupdate', 'tls.ocsp_nextupdate', 'tls.ocsp_signaturealgorithm_element', 'tls.ber_bitstring_padding', 'tls.ocsp_signature', 'tls.handshake_server_curve_type', 'tls.handshake_server_named_curve', 'tls.handshake_server_point_len', 'tls.handshake_server_point', 'tls.handshake_sig_len', 'tls.handshake_sig', 'tls.handshake_client_point_len', 'tls.handshake_client_point', 'tls.change_cipher_spec', 'nbns.id', 'nbns.flags', 'nbns.flags_response', 'nbns.flags_opcode', 'nbns.flags_truncated', 'nbns.flags_recdesired', 'nbns.flags_broadcast', 'nbns.count_queries', 'nbns.count_answers', 'nbns.count_auth_rr', 'nbns.count_add_rr', 'nbns.', 'nbns.name', 'nbns.type', 'nbns.class', 'tls.handshake_sig_hash_alg_len', 'tls.handshake_sig_hash_algs', 'tls.handshake_sig_hash_alg', 'tls.handshake_sig_hash_hash', 'tls.handshake_sig_hash_sig', 'tls.handshake_extensions_reneg_info_len', 'ocsp.tbsrequest_element', 'ocsp.requestlist', 'ocsp.request_element', 'ocsp.reqcert_element', 'ocsp.hashalgorithm_element', 'ocsp.x509af_algorithm_id', 'ocsp.issuernamehash', 'ocsp.issuerkeyhash', 'ocsp.serialnumber', 'ocsp.responsestatus', 'ocsp.responsebytes_element', 'ocsp.responsetype_id', 'ocsp.basicocspresponse_element', 'ocsp.tbsresponsedata_element', 'ocsp.responderid', 'ocsp.bykey', 'ocsp.producedat', 'ocsp.responses', 'ocsp.singleresponse_element', 'ocsp.certid_element', 'ocsp.certstatus', 'ocsp.good_element', 'ocsp.thisupdate', 'ocsp.nextupdate', 'ocsp.signaturealgorithm_element', 'ocsp.ber_bitstring_padding', 'ocsp.signature', 'ocsp.certs', 'ocsp.certificate_element', 'ocsp.x509af_signedcertificate_element', 'ocsp.x509af_version', 'ocsp.x509af_serialnumber', 'ocsp.x509af_signature_element', 'ocsp.x509af_issuer', 'ocsp.x509if_rdnsequence', 'ocsp.x509if_rdnsequence_item', 'ocsp.x509if_relativedistinguishedname_item_element', 'ocsp.x509if_oid', 'ocsp.x509sat_countryname', 'ocsp.x509sat_directorystring', 'ocsp.x509sat_printablestring', 'ocsp.x509af_validity_element', 'ocsp.x509af_notbefore', 'ocsp.x509af_utctime', 'ocsp.x509af_notafter', 'ocsp.x509af_subject', 'ocsp.x509af_rdnsequence', 'ocsp.x509af_subjectpublickeyinfo_element', 'ocsp.x509af_algorithm_element', 'ocsp.x509af_subjectpublickey', 'ocsp.pkcs1_modulus', 'ocsp.pkcs1_publicexponent', 'ocsp.x509af_extensions', 'ocsp.x509af_extension_element', 'ocsp.x509af_extension_id', 'ocsp.x509af_critical', 'ocsp.x509ce_basicconstraintssyntax_element', 'ocsp.x509ce_certificatepoliciessyntax', 'ocsp.x509ce_policyinformation_element', 'ocsp.x509ce_policyidentifier', 'ocsp.x509ce_policyqualifiers', 'ocsp.x509ce_policyqualifierinfo_element', 'ocsp.x509ce_id', 'ocsp.pkix1explicit_directorystring', 'ocsp.pkix1implicit_usernotice_element', 'ocsp.pkix1implicit_explicittext', 'ocsp.pkix1implicit_visiblestring', 'ocsp.x509ce_keypurposeids', 'ocsp.x509ce_keypurposeid', 'ocsp.x509ce_keyusage', 'ocsp.x509ce_keyusage_digitalsignature', 'ocsp.x509ce_keyusage_contentcommitment', 'ocsp.x509ce_keyusage_keyencipherment', 'ocsp.x509ce_keyusage_dataencipherment', 'ocsp.x509ce_keyusage_keyagreement', 'ocsp.x509ce_keyusage_keycertsign', 'ocsp.x509ce_keyusage_crlsign', 'ocsp.x509ce_keyusage_encipheronly', 'ocsp.x509ce_keyusage_decipheronly', 'ocsp.null_element', 'ocsp.x509ce_generalnames', 'ocsp.x509ce_generalname', 'ocsp.x509ce_directoryname', 'ocsp.x509ce_subjectkeyidentifier', 'ocsp.x509ce_authoritykeyidentifier_element', 'ocsp.x509ce_keyidentifier', 'ocsp.x509af_algorithmidentifier_element', 'ocsp.x509af_encrypted', 'http._ws_string_trailing_stray_characters', 'http.bad_header_name', 'http.data', 'http.data_data', 'http.data_len', 'tcp.analysis_zero_window', 'http.set_cookie', 'ssdp.http_user_agent', 'igmp.reserved', 'igmp.num_grp_recs', 'igmp.', 'igmp.record_type', 'igmp.aux_data_len', 'igmp.num_src', 'tls.handshake_extension_data', 'tls.handshake_extensions_alpn_len', 'tls.handshake_extensions_alpn_list', 'tls.handshake_extensions_alpn_str_len', 'tls.handshake_extensions_alpn_str', 'tls.compress_certificate_algorithms_length', 'tls.compress_certificate_algorithm', 'tls.sct_scts_length', 'tls.sct_sct_length', 'tls.sct_sct_version', 'tls.sct_sct_logid', 'tls.sct_sct_timestamp', 'tls.sct_sct_extensions_length', 'tls.sct_sct_signature_length', 'tls.sct_sct_signature', 'tls.handshake_session_ticket_lifetime_hint', 'tls.handshake_session_ticket_length', 'tls.handshake_session_ticket', '_ws.malformed._ws_expert', '_ws.malformed.expert', '_ws.malformed._ws_expert_message', '_ws.malformed._ws_expert_severity', '_ws.malformed._ws_expert_group', 'nbss.type', 'nbss.length', 'smb.nt_status', 'smb.dialect', 'smb.buffer_format', 'smb.dialect_name', 'smb.dialect_index', 'smb.sm', 'smb.sm_mode', 'smb.sm_password', 'smb.sm_signatures', 'smb.sm_sig_required', 'smb.max_mpx_count', 'smb.max_vcs', 'smb.max_bufsize', 'smb.max_raw', 'smb.session_key', 'smb.server_cap', 'smb.server_cap_raw_mode', 'smb.server_cap_mpx_mode', 'smb.server_cap_unicode', 'smb.server_cap_large_files', 'smb.server_cap_nt_smbs', 'smb.server_cap_rpc_remote_apis', 'smb.server_cap_nt_status', 'smb.server_cap_level_2_oplocks', 'smb.server_cap_lock_and_read', 'smb.server_cap_nt_find', 'smb.server_cap_dfs', 'smb.server_cap_infolevel_passthru', 'smb.server_cap_large_readx', 'smb.server_cap_large_writex', 'smb.server_cap_lwio', 'smb.server_cap_unix', 'smb.server_cap_compressed_data', 'smb.server_cap_dynamic_reauth', 'smb.server_cap_extended_security', 'smb.system_time', 'smb.server_timezone', 'smb.challenge_length', 'smb.server_guid', 'smb.security_blob', 'smb.gss_api_oid', 'smb.spnego_negtokeninit_element', 'smb.spnego_mechtypes', 'smb.spnego_mechtype', 'smb.andxoffset', 'smb.max_buf', 'smb.vc', 'smb.ansi_pwlen', 'smb.unicode_pwlen', 'smb.ansi_password', 'smb.account', 'smb.primary_domain', 'smb.native_os', 'smb.native_lanman', 'smb.extra_byte_parameters', 'smb.setup_action', 'smb.setup_action_guest', 'smb.connect_flags', 'smb.connect_flags_dtid', 'smb.connect_flags_extendedsig', 'smb.connect_flags_extendedresp', 'smb.pwlen', 'smb.password', 'smb.path', 'smb.service', 'smb.response_to', 'smb.time', 'smb.fid_mapped_in', 'smb.connect_support', 'smb.connect_support_search', 'smb.connect_support_dfs', 'smb.connect_support_cscmask', 'smb.connect_support_uniqfilename', 'smb.connect_support_extendedsig', 'smb.access_mask', 'smb.access_read', 'smb.access_write', 'smb.access_append', 'smb.access_read_ea', 'smb.access_write_ea', 'smb.access_execute', 'smb.access_delete_child', 'smb.access_read_attributes', 'smb.access_write_attributes', 'smb.access_delete', 'smb.access_read_control', 'smb.access_write_dac', 'smb.access_write_owner', 'smb.access_synchronize', 'smb.access_system_security', 'smb.access_maximum_allowed', 'smb.access_generic_all', 'smb.access_generic_execute', 'smb.access_generic_write', 'smb.access_generic_read', 'smb.native_fs', 'dcerpc.ver', 'dcerpc.ver_minor', 'dcerpc.pkt_type', 'dcerpc.cn_flags', 'dcerpc.cn_flags_object', 'dcerpc.cn_flags_maybe', 'dcerpc.cn_flags_dne', 'dcerpc.cn_flags_mpx', 'dcerpc.cn_flags_reserved', 'dcerpc.cn_flags_cancel_pending', 'dcerpc.cn_flags_last_frag', 'dcerpc.cn_flags_first_frag', 'dcerpc.drep', 'dcerpc.drep_byteorder', 'dcerpc.drep_character', 'dcerpc.drep_fp', 'dcerpc.cn_frag_len', 'dcerpc.cn_auth_len', 'dcerpc.cn_call_id', 'dcerpc.cn_max_xmit', 'dcerpc.cn_max_recv', 'dcerpc.cn_assoc_group', 'dcerpc.cn_num_ctx_items', 'dcerpc.cn_ctx_item', 'dcerpc.cn_ctx_id', 'dcerpc.cn_num_trans_items', 'dcerpc.cn_bind_abstract_syntax', 'dcerpc.cn_bind_to_uuid', 'dcerpc.cn_bind_if_ver', 'dcerpc.cn_bind_if_ver_minor', 'dcerpc.cn_bind_trans', 'dcerpc.cn_bind_trans_id', 'dcerpc.cn_bind_trans_ver', 'dcerpc.cn_sec_addr_len', 'dcerpc.cn_sec_addr', 'dcerpc.cn_num_results', 'dcerpc.', 'dcerpc.cn_ack_result', 'dcerpc.cn_ack_trans_id', 'dcerpc.cn_ack_trans_ver', 'smb.nt_function', 'smb.continuation_to', 'smb.response_in', 'smb.pd', 'smb.data_disp', 'smb.fid', 'nbss.continuation_data', 'ipv6.hopopts_nxt', 'ipv6.hopopts_len', 'ipv6.hopopts_len_oct', 'ipv6.opt', 'ipv6.opt_type', 'ipv6.opt_type_action', 'ipv6.opt_type_change', 'ipv6.opt_type_rest', 'ipv6.opt_length', 'ipv6.opt_router_alert', 'ipv6.opt_padn', 'icmpv6.mldr_nb_mcast_records', 'icmpv6.mldr_mar', 'icmpv6.mldr_mar_record_type', 'icmpv6.mldr_mar_aux_data_len', 'icmpv6.mldr_mar_nb_sources', 'icmpv6.mldr_mar_multicast_address', 'http.notification', 'json.object', 'json.member', 'json.path_with_value', 'json.member_with_value', 'json.value_string', 'json.key', 'json.path', 'json.array', 'json.value_false', 'json.value_true', 'http.upgrade', 'http.sec_websocket_version', 'http.sec_websocket_key', 'http.sec_websocket_extensions', 'http.sec_websocket_accept', 'websocket.fin', 'websocket.rsv', 'websocket.opcode', 'websocket.mask', 'websocket.payload_length', 'websocket.masking_key', 'websocket.masked_payload', 'websocket.payload', 'websocket.payload_text', 'websocket.payload_length_ext_16', 'tls.handshake_certificates_length', 'tls.handshake_certificates', 'tls.handshake_certificate_length', 'tls.handshake_certificate', 'tls.x509af_signedcertificate_element', 'tls.x509af_version', 'tls.x509af_serialnumber', 'tls.x509af_signature_element', 'tls.x509af_issuer', 'tls.x509if_rdnsequence', 'tls.x509if_rdnsequence_item', 'tls.x509if_relativedistinguishedname_item_element', 'tls.x509if_oid', 'tls.x509sat_countryname', 'tls.x509sat_directorystring', 'tls.x509sat_printablestring', 'tls.x509af_validity_element', 'tls.x509af_notbefore', 'tls.x509af_utctime', 'tls.x509af_notafter', 'tls.x509af_subject', 'tls.x509af_rdnsequence', 'tls.x509af_subjectpublickeyinfo_element', 'tls.x509af_algorithm_element', 'tls.x509af_subjectpublickey', 'tls.pkcs1_modulus', 'tls.pkcs1_publicexponent', 'tls.x509af_extensions', 'tls.x509af_extension_element', 'tls.x509af_extension_id', 'tls.x509af_critical', 'tls.x509ce_keyusage', 'tls.x509ce_keyusage_digitalsignature', 'tls.x509ce_keyusage_contentcommitment', 'tls.x509ce_keyusage_keyencipherment', 'tls.x509ce_keyusage_dataencipherment', 'tls.x509ce_keyusage_keyagreement', 'tls.x509ce_keyusage_keycertsign', 'tls.x509ce_keyusage_crlsign', 'tls.x509ce_keyusage_encipheronly', 'tls.x509ce_keyusage_decipheronly', 'tls.x509ce_keypurposeids', 'tls.x509ce_keypurposeid', 'tls.x509ce_subjectkeyidentifier', 'tls.x509ce_generalnames', 'tls.x509ce_generalname', 'tls.x509ce_dnsname', 'tls.x509ce_authoritykeyidentifier_element', 'tls.x509ce_keyidentifier', 'tls.x509ce_crldistpointssyntax', 'tls.x509ce_distributionpoint_element', 'tls.x509ce_distributionpoint', 'tls.x509ce_fullname', 'tls.x509ce_uniformresourceidentifier', 'tls.pkix1implicit_authorityinfoaccesssyntax', 'tls.pkix1implicit_accessdescription_element', 'tls.pkix1implicit_accessmethod', 'tls.pkix1implicit_accesslocation', 'tls.x509ce_basicconstraintssyntax_element', 'tls.x509af_algorithmidentifier_element', 'tls.x509af_encrypted', 'tls.x509sat_integer', 'tls.x509sat_bmpstring', 'tls.x509ce_ca', 'ipv6.geoip_src_summary', 'ipv6.geoip_src_city', 'ipv6.geoip_city', 'ipv6.geoip_src_country', 'ipv6.geoip_country', 'ipv6.geoip_src_country_iso', 'ipv6.geoip_country_iso', 'ipv6.geoip_src_lat', 'ipv6.geoip_lat', 'ipv6.geoip_src_lon', 'ipv6.geoip_lon', 'ipv6.geoip_dst_summary', 'ipv6.geoip_dst_country', 'ipv6.geoip_dst_country_iso', 'ipv6.geoip_dst_lat', 'ipv6.geoip_dst_lon', 'icmpv6.opt_target_linkaddr', 'smb.echo_count', 'smb.echo_data', 'smb.echo_seq_num', 'smb.security_blob_len', 'smb.trans2_cmd', 'smb.padding', 'dhcp.type', 'dhcp.hw_type', 'dhcp.hw_len', 'dhcp.hops', 'dhcp.id', 'dhcp.secs', 'dhcp.flags', 'dhcp.flags_bc', 'dhcp.flags_reserved', 'dhcp.ip_client', 'dhcp.ip_your', 'dhcp.ip_server', 'dhcp.ip_relay', 'dhcp.hw_mac_addr', 'dhcp.hw_addr_padding', 'dhcp.server', 'dhcp.file', 'dhcp.cookie', 'dhcp.option_type', 'dhcp.option_length', 'dhcp.option_value', 'dhcp.option_dhcp', 'dhcp.option_dhcp_server_id', 'dhcp.option_ip_address_lease_time', 'dhcp.option_renewal_time_value', 'dhcp.option_rebinding_time_value', 'dhcp.option_subnet_mask', 'dhcp.option_broadcast_address', 'dhcp.option_router', 'dhcp.option_domain_name_server', 'dhcp.option_domain_name', 'dhcp.option_hostname', 'dhcp.option_end', 'dhcp.option_padding', 'icmp.unused', 'icmp.ip_version', 'icmp.ip_hdr_len', 'icmp.ip_dsfield', 'icmp.ip_dsfield_dscp', 'icmp.ip_dsfield_ecn', 'icmp.ip_len', 'icmp.ip_id', 'icmp.ip_flags', 'icmp.ip_flags_rb', 'icmp.ip_flags_df', 'icmp.ip_flags_mf', 'icmp.ip_frag_offset', 'icmp.ip_ttl', 'icmp.ip_proto', 'icmp.ip_checksum', 'icmp.ip_checksum_status', 'icmp.ip_src', 'icmp.ip_addr', 'icmp.ip_src_host', 'icmp.ip_host', 'icmp.ip_dst', 'icmp.ip_dst_host', 'icmp.ip_geoip_src_summary', 'icmp.ip_geoip_src_city', 'icmp.ip_geoip_city', 'icmp.ip_geoip_src_country', 'icmp.ip_geoip_country', 'icmp.ip_geoip_src_country_iso', 'icmp.ip_geoip_country_iso', 'icmp.ip_geoip_src_lat', 'icmp.ip_geoip_lat', 'icmp.ip_geoip_src_lon', 'icmp.ip_geoip_lon', 'icmp.udp_srcport', 'icmp.udp_dstport', 'icmp.udp_port', 'icmp.udp_length', 'icmp.udp_checksum', 'icmp.udp_checksum_status', 'icmp.udp_stream', 'icmp.udp_payload', 'tls.x509ce_certificatepoliciessyntax', 'tls.x509ce_policyinformation_element', 'tls.x509ce_policyidentifier', 'tls.x509ce_certificatetemplate_element', 'tls.x509ce_templateid', 'tls.x509ce_templatemajorversion', 'tls.x509ce_templateminorversion', 'tls.x509ce_policyqualifiers', 'tls.x509ce_policyqualifierinfo_element', 'tls.x509ce_id', 'tls.pkix1explicit_directorystring', 'tls.x509ce_pathlenconstraint', 'tls.ocsp_singleextensions', 'tls.pkix1explicit_extension_element', 'tls.pkix1explicit_id', 'tls.ocsp_archivecutoff', 'tls.ocsp_certs', 'tls.ocsp_certificate_element', 'tls.ocsp_null_element', 'tls.handshake_extensions_key_share_client_length', 'tls.handshake_extensions_key_share_group', 'tls.handshake_extensions_key_share_key_exchange_length', 'tls.handshake_extensions_key_share_key_exchange', 'tls.handshake_extensions_supported_versions_len', 'tls.handshake_extensions_supported_version', 'tls.extension_psk_ke_modes_length', 'tls.extension_psk_ke_mode', 'tls.record_size_limit', 'tls.handshake_extensions_padding_data', 'json.value_number', 'http.content_encoding', 'media.type', 'png.bkgd_greyscale', 'png.phys_horiz', 'png.phys_vert', 'png.phys_unit', 'png.text_keyword', 'png.text_string', 'thrift._ws_expert', 'thrift.not_enough_data', 'thrift._ws_expert_message', 'thrift._ws_expert_severity', 'thrift._ws_expert_group', 'thrift.', 'thrift.protocol_id', 'thrift.version', 'thrift.mtype', 'thrift.seq_id', 'thrift.str_len', 'thrift.method', 'thrift._ws_string_trailing_stray_characters', 'thrift.type', 'thrift.fid_delta', 'thrift.fid', 'thrift.bool', 'thrift.i8', 'thrift.uuid', 'thrift.i16', 'thrift.struct', 'thrift.wrong_type', 'tcp.fin_retransmission', 'tcp.analysis_window_full', 'ipv6.src_ts_ipv4', 'ipv6.src_tc_port', 'ipv6.src_tc_ipv4', 'ipv6.ts_ipv4', 'ipv6.tc_port', 'ipv6.tc_ipv4', 'http.location', 'xml.doctype', 'xml.comment', 'xml.cdatasection', 'urlencoded-form.', 'urlencoded-form.key', 'urlencoded-form.value', 'tls.resumed', 'http.leading_crlf', 'ipv6.geoip_dst_city', 'tls.x509sat_utf8string', 'ftp.request', 'ftp.response', 'ftp.', 'ftp.response_code', 'ftp.response_arg', 'DATA.ftp_current_working_directory', 'ftp.request_command', 'ftp.request_arg', '_ws.malformed.reassembly', 'arp.isprobe', 'icmpv6.nd_ra_cur_hop_limit', 'icmpv6.nd_ra_flag', 'icmpv6.nd_ra_flag_m', 'icmpv6.nd_ra_flag_o', 'icmpv6.nd_ra_flag_h', 'icmpv6.nd_ra_flag_prf', 'icmpv6.nd_ra_flag_p', 'icmpv6.nd_ra_flag_rsv', 'icmpv6.nd_ra_router_lifetime', 'icmpv6.nd_ra_reachable_time', 'icmpv6.nd_ra_retrans_timer', 'icmpv6.opt_reserved', 'icmpv6.opt_mtu', 'icmpv6.opt_prefix_length', 'icmpv6.opt_prefix_flag', 'icmpv6.opt_prefix_flag_l', 'icmpv6.opt_prefix_flag_a', 'icmpv6.opt_prefix_flag_r', 'icmpv6.opt_prefix_flag_reserved', 'icmpv6.opt_prefix_valid_lifetime', 'icmpv6.opt_prefix_preferred_lifetime', 'icmpv6.opt_prefix', 'icmpv6.opt_route_info_flag', 'icmpv6.opt_route_info_flag_route_preference', 'icmpv6.opt_route_info_flag_reserved', 'icmpv6.opt_route_lifetime', 'icmpv6.opt_rdnss_lifetime', 'icmpv6.opt_rdnss', 'icmpv6.opt_dnssl_lifetime', 'icmpv6.opt_dnssl', 'icmpv6.opt_padding', 'icmpv6.opt_advertisement_interval', 'arp.isgratuitous', 'arp.isannouncement', 'dhcpv6.msgtype', 'dhcpv6.xid', 'dhcpv6.option_type_str', 'dhcpv6.option_type', 'dhcpv6.option_length', 'dhcpv6.elapsed_time', 'dhcpv6.duid_bytes', 'dhcpv6.duid_type', 'dhcpv6.duidllt_hwtype', 'dhcpv6.duidllt_time', 'dhcpv6.duidllt_link_layer_addr', 'dhcpv6.vendorclass_enterprise', 'dhcpv6.vendorclass_data', 'dhcpv6.requested_option_code']\n"
     ]
    },
    {
     "data": {
      "text/html": [
       "<h3>Columns with <50.0% Missing Values (excluding 0%)</h3><table border=\"1\" class=\"dataframe\">\n",
       "  <thead>\n",
       "    <tr style=\"text-align: right;\">\n",
       "      <th>Column</th>\n",
       "      <th>Missing Percentage</th>\n",
       "    </tr>\n",
       "  </thead>\n",
       "  <tbody>\n",
       "    <tr>\n",
       "      <td>sll.pkttype</td>\n",
       "      <td>21.052632</td>\n",
       "    </tr>\n",
       "    <tr>\n",
       "      <td>sll.hatype</td>\n",
       "      <td>21.052632</td>\n",
       "    </tr>\n",
       "    <tr>\n",
       "      <td>sll.halen</td>\n",
       "      <td>21.052632</td>\n",
       "    </tr>\n",
       "    <tr>\n",
       "      <td>sll.src_eth</td>\n",
       "      <td>21.052632</td>\n",
       "    </tr>\n",
       "    <tr>\n",
       "      <td>sll.unused</td>\n",
       "      <td>21.052632</td>\n",
       "    </tr>\n",
       "    <tr>\n",
       "      <td>eth.dst</td>\n",
       "      <td>39.628421</td>\n",
       "    </tr>\n",
       "    <tr>\n",
       "      <td>eth.dst_resolved</td>\n",
       "      <td>39.628421</td>\n",
       "    </tr>\n",
       "    <tr>\n",
       "      <td>eth.dst_oui</td>\n",
       "      <td>39.628421</td>\n",
       "    </tr>\n",
       "    <tr>\n",
       "      <td>eth.addr</td>\n",
       "      <td>39.628421</td>\n",
       "    </tr>\n",
       "    <tr>\n",
       "      <td>eth.addr_resolved</td>\n",
       "      <td>39.628421</td>\n",
       "    </tr>\n",
       "    <tr>\n",
       "      <td>eth.addr_oui</td>\n",
       "      <td>39.628421</td>\n",
       "    </tr>\n",
       "    <tr>\n",
       "      <td>eth.dst_lg</td>\n",
       "      <td>39.628421</td>\n",
       "    </tr>\n",
       "    <tr>\n",
       "      <td>eth.lg</td>\n",
       "      <td>39.628421</td>\n",
       "    </tr>\n",
       "    <tr>\n",
       "      <td>eth.dst_ig</td>\n",
       "      <td>39.628421</td>\n",
       "    </tr>\n",
       "    <tr>\n",
       "      <td>eth.ig</td>\n",
       "      <td>39.628421</td>\n",
       "    </tr>\n",
       "    <tr>\n",
       "      <td>eth.src</td>\n",
       "      <td>39.628421</td>\n",
       "    </tr>\n",
       "    <tr>\n",
       "      <td>eth.src_resolved</td>\n",
       "      <td>39.628421</td>\n",
       "    </tr>\n",
       "    <tr>\n",
       "      <td>eth.src_oui</td>\n",
       "      <td>39.628421</td>\n",
       "    </tr>\n",
       "    <tr>\n",
       "      <td>eth.src_oui_resolved</td>\n",
       "      <td>39.628421</td>\n",
       "    </tr>\n",
       "    <tr>\n",
       "      <td>eth.addr_oui_resolved</td>\n",
       "      <td>39.628421</td>\n",
       "    </tr>\n",
       "    <tr>\n",
       "      <td>eth.src_lg</td>\n",
       "      <td>39.628421</td>\n",
       "    </tr>\n",
       "    <tr>\n",
       "      <td>eth.src_ig</td>\n",
       "      <td>39.628421</td>\n",
       "    </tr>\n",
       "    <tr>\n",
       "      <td>eth.type</td>\n",
       "      <td>39.628421</td>\n",
       "    </tr>\n",
       "    <tr>\n",
       "      <td>ip.version</td>\n",
       "      <td>40.955789</td>\n",
       "    </tr>\n",
       "    <tr>\n",
       "      <td>ip.hdr_len</td>\n",
       "      <td>40.977368</td>\n",
       "    </tr>\n",
       "    <tr>\n",
       "      <td>ip.dsfield</td>\n",
       "      <td>40.977368</td>\n",
       "    </tr>\n",
       "    <tr>\n",
       "      <td>ip.dsfield_dscp</td>\n",
       "      <td>40.977368</td>\n",
       "    </tr>\n",
       "    <tr>\n",
       "      <td>ip.dsfield_ecn</td>\n",
       "      <td>40.977368</td>\n",
       "    </tr>\n",
       "    <tr>\n",
       "      <td>ip.len</td>\n",
       "      <td>40.977368</td>\n",
       "    </tr>\n",
       "    <tr>\n",
       "      <td>ip.id</td>\n",
       "      <td>40.977368</td>\n",
       "    </tr>\n",
       "    <tr>\n",
       "      <td>ip.flags</td>\n",
       "      <td>40.977368</td>\n",
       "    </tr>\n",
       "    <tr>\n",
       "      <td>ip.flags_rb</td>\n",
       "      <td>40.977368</td>\n",
       "    </tr>\n",
       "    <tr>\n",
       "      <td>ip.flags_df</td>\n",
       "      <td>40.977368</td>\n",
       "    </tr>\n",
       "    <tr>\n",
       "      <td>ip.flags_mf</td>\n",
       "      <td>40.977368</td>\n",
       "    </tr>\n",
       "    <tr>\n",
       "      <td>ip.frag_offset</td>\n",
       "      <td>40.977368</td>\n",
       "    </tr>\n",
       "    <tr>\n",
       "      <td>ip.ttl</td>\n",
       "      <td>40.977368</td>\n",
       "    </tr>\n",
       "    <tr>\n",
       "      <td>ip.proto</td>\n",
       "      <td>40.977368</td>\n",
       "    </tr>\n",
       "    <tr>\n",
       "      <td>ip.checksum</td>\n",
       "      <td>40.977368</td>\n",
       "    </tr>\n",
       "    <tr>\n",
       "      <td>ip.checksum_status</td>\n",
       "      <td>40.977368</td>\n",
       "    </tr>\n",
       "    <tr>\n",
       "      <td>ip.src</td>\n",
       "      <td>40.977368</td>\n",
       "    </tr>\n",
       "    <tr>\n",
       "      <td>ip.addr</td>\n",
       "      <td>40.977368</td>\n",
       "    </tr>\n",
       "    <tr>\n",
       "      <td>ip.src_host</td>\n",
       "      <td>40.977368</td>\n",
       "    </tr>\n",
       "    <tr>\n",
       "      <td>ip.host</td>\n",
       "      <td>40.977368</td>\n",
       "    </tr>\n",
       "    <tr>\n",
       "      <td>ip.dst</td>\n",
       "      <td>40.977368</td>\n",
       "    </tr>\n",
       "    <tr>\n",
       "      <td>ip.dst_host</td>\n",
       "      <td>40.977368</td>\n",
       "    </tr>\n",
       "    <tr>\n",
       "      <td>tcp.srcport</td>\n",
       "      <td>48.381579</td>\n",
       "    </tr>\n",
       "    <tr>\n",
       "      <td>tcp.dstport</td>\n",
       "      <td>48.381579</td>\n",
       "    </tr>\n",
       "    <tr>\n",
       "      <td>tcp.port</td>\n",
       "      <td>48.381579</td>\n",
       "    </tr>\n",
       "    <tr>\n",
       "      <td>tcp.stream</td>\n",
       "      <td>48.381579</td>\n",
       "    </tr>\n",
       "    <tr>\n",
       "      <td>tcp.completeness</td>\n",
       "      <td>48.381579</td>\n",
       "    </tr>\n",
       "    <tr>\n",
       "      <td>tcp.len</td>\n",
       "      <td>48.381579</td>\n",
       "    </tr>\n",
       "    <tr>\n",
       "      <td>tcp.seq</td>\n",
       "      <td>48.381579</td>\n",
       "    </tr>\n",
       "    <tr>\n",
       "      <td>tcp.seq_raw</td>\n",
       "      <td>48.381579</td>\n",
       "    </tr>\n",
       "    <tr>\n",
       "      <td>tcp.nxtseq</td>\n",
       "      <td>48.381579</td>\n",
       "    </tr>\n",
       "    <tr>\n",
       "      <td>tcp.ack</td>\n",
       "      <td>48.381579</td>\n",
       "    </tr>\n",
       "    <tr>\n",
       "      <td>tcp.ack_raw</td>\n",
       "      <td>48.381579</td>\n",
       "    </tr>\n",
       "    <tr>\n",
       "      <td>tcp.hdr_len</td>\n",
       "      <td>48.381579</td>\n",
       "    </tr>\n",
       "    <tr>\n",
       "      <td>tcp.flags</td>\n",
       "      <td>48.381579</td>\n",
       "    </tr>\n",
       "    <tr>\n",
       "      <td>tcp.flags_res</td>\n",
       "      <td>48.381579</td>\n",
       "    </tr>\n",
       "    <tr>\n",
       "      <td>tcp.flags_ae</td>\n",
       "      <td>48.381579</td>\n",
       "    </tr>\n",
       "    <tr>\n",
       "      <td>tcp.flags_cwr</td>\n",
       "      <td>48.381579</td>\n",
       "    </tr>\n",
       "    <tr>\n",
       "      <td>tcp.flags_ece</td>\n",
       "      <td>48.381579</td>\n",
       "    </tr>\n",
       "    <tr>\n",
       "      <td>tcp.flags_urg</td>\n",
       "      <td>48.381579</td>\n",
       "    </tr>\n",
       "    <tr>\n",
       "      <td>tcp.flags_ack</td>\n",
       "      <td>48.381579</td>\n",
       "    </tr>\n",
       "    <tr>\n",
       "      <td>tcp.flags_push</td>\n",
       "      <td>48.381579</td>\n",
       "    </tr>\n",
       "    <tr>\n",
       "      <td>tcp.flags_reset</td>\n",
       "      <td>48.381579</td>\n",
       "    </tr>\n",
       "    <tr>\n",
       "      <td>tcp.flags_syn</td>\n",
       "      <td>48.381579</td>\n",
       "    </tr>\n",
       "    <tr>\n",
       "      <td>tcp.flags_fin</td>\n",
       "      <td>48.381579</td>\n",
       "    </tr>\n",
       "    <tr>\n",
       "      <td>tcp.flags_str</td>\n",
       "      <td>48.381579</td>\n",
       "    </tr>\n",
       "    <tr>\n",
       "      <td>tcp.window_size_value</td>\n",
       "      <td>48.381579</td>\n",
       "    </tr>\n",
       "    <tr>\n",
       "      <td>tcp.window_size</td>\n",
       "      <td>48.381579</td>\n",
       "    </tr>\n",
       "    <tr>\n",
       "      <td>tcp.checksum</td>\n",
       "      <td>48.381579</td>\n",
       "    </tr>\n",
       "    <tr>\n",
       "      <td>tcp.checksum_status</td>\n",
       "      <td>48.381579</td>\n",
       "    </tr>\n",
       "    <tr>\n",
       "      <td>tcp.urgent_pointer</td>\n",
       "      <td>48.381579</td>\n",
       "    </tr>\n",
       "    <tr>\n",
       "      <td>tcp.</td>\n",
       "      <td>48.381579</td>\n",
       "    </tr>\n",
       "    <tr>\n",
       "      <td>tcp.time_relative</td>\n",
       "      <td>48.381579</td>\n",
       "    </tr>\n",
       "    <tr>\n",
       "      <td>tcp.time_delta</td>\n",
       "      <td>48.381579</td>\n",
       "    </tr>\n",
       "  </tbody>\n",
       "</table>"
      ],
      "text/plain": [
       "<IPython.core.display.HTML object>"
      ]
     },
     "metadata": {},
     "output_type": "display_data"
    }
   ],
   "source": [
    "threshold = 0.50\n",
    "\n",
    "missing_percentage = visualization.calculate_missing_percentages(base_data)\n",
    "\n",
    "# Print columns with 0% missing values\n",
    "visualization.print_zero_missing_columns(missing_percentage)\n",
    "\n",
    "# Print columns with missing values above the threshold\n",
    "visualization.print_high_missing_columns(missing_percentage, threshold)\n",
    "\n",
    "# Print table of columns with valid missing values (less than threshold)\n",
    "visualization.print_valid_columns_table(missing_percentage, threshold)\n"
   ]
  },
  {
   "cell_type": "code",
   "execution_count": 4,
   "metadata": {},
   "outputs": [
    {
     "data": {
      "image/png": "[encoded data removed]",
      "text/plain": [
       "<Figure size 1000x600 with 1 Axes>"
      ]
     },
     "metadata": {},
     "output_type": "display_data"
    }
   ],
   "source": [
    "visualization.get_types(base_data)"
   ]
  },
  {
   "cell_type": "markdown",
   "metadata": {},
   "source": [
    "verificar se as entradas dos graficos acima pertencem  aos pacotes de trafego para perceber s n ha cenas que passaram infiltradas"
   ]
  }
 ],
 "metadata": {
  "kernelspec": {
   "display_name": "Python 3",
   "language": "python",
   "name": "python3"
  },
  "language_info": {
   "codemirror_mode": {
    "name": "ipython",
    "version": 3
   },
   "file_extension": ".py",
   "mimetype": "text/x-python",
   "name": "python",
   "nbconvert_exporter": "python",
   "pygments_lexer": "ipython3",
   "version": "3.12.7"
  }
 },
 "nbformat": 4,
 "nbformat_minor": 2
}
