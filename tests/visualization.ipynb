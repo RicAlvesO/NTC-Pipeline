{
 "cells": [
  {
   "cell_type": "markdown",
   "metadata": {},
   "source": [
    "# Setup"
   ]
  },
  {
   "cell_type": "code",
   "execution_count": null,
   "metadata": {},
   "outputs": [],
   "source": [
    "%pip install pyshark\n",
    "%pip install nest_asyncio\n",
    "%pip install pandas\n",
    "\n",
    "import sys\n",
    "sys.path.append('..')\n",
    "\n",
    "from src.preprocessors.pcap_preprocessor import PcapPreprocessor\n",
    "import nest_asyncio\n",
    "nest_asyncio.apply()\n",
    "\n",
    "\n",
    "preprocessor = PcapPreprocessor()\n",
    "\n",
    "base_data = preprocessor.get_all_data()\n",
    "print(base_data)"
   ]
  },
  {
   "cell_type": "markdown",
   "metadata": {},
   "source": [
    "# Visualization"
   ]
  },
  {
   "cell_type": "code",
   "execution_count": null,
   "metadata": {},
   "outputs": [],
   "source": [
    "import pandas as pd\n",
    "import matplotlib.pyplot as plt\n",
    "from src.visualization.visualization import Visualization\n",
    "from IPython.display import display, HTML\n",
    "\n",
    "visualization = Visualization()\n",
    "\n",
    "# Check available columns in base_data\n",
    "print(\"Columns in base_data:\", base_data.columns.tolist())"
   ]
  },
  {
   "cell_type": "code",
   "execution_count": null,
   "metadata": {},
   "outputs": [],
   "source": [
    "print(base_data.info())"
   ]
  },
  {
   "cell_type": "code",
   "execution_count": null,
   "metadata": {},
   "outputs": [],
   "source": [
    "print(\"Column Information:\")\n",
    "display(HTML(base_data.dtypes.to_frame().to_html(header=[\"Data Type\"], index=True)))"
   ]
  },
  {
   "cell_type": "code",
   "execution_count": null,
   "metadata": {},
   "outputs": [],
   "source": [
    "print(\"\\nFirst 5 lines of the dataset as a table:\")\n",
    "display(HTML(base_data.head(5).to_html()))\n",
    "base_data['eth.dst_lg'].nunique()"
   ]
  },
  {
   "cell_type": "code",
   "execution_count": null,
   "metadata": {},
   "outputs": [],
   "source": [
    "# Function to filter columns by missing values and display the desired outputs\n",
    "def filter_columns_by_missing_values(base_data, threshold=0.85):\n",
    "    # Calculate the percentage of missing values for each column\n",
    "    missing_percentage = base_data.isnull().mean()\n",
    "    \n",
    "    # Get columns with 0% missing values\n",
    "    zero_missing = missing_percentage[missing_percentage == 0]\n",
    "    zero_missing_list = zero_missing.index.tolist()\n",
    "    \n",
    "    # Get columns with missing values less than the threshold and greater than 0\n",
    "    valid_columns = missing_percentage[(missing_percentage < threshold) & (missing_percentage > 0)]\n",
    "    \n",
    "    # Get columns with more than 85% missing values\n",
    "    high_missing = missing_percentage[missing_percentage > threshold]\n",
    "    high_missing_list = high_missing.index.tolist()\n",
    "    \n",
    "    # Create a DataFrame to display columns with less than 85% missing (excluding 0% missing)\n",
    "    valid_columns_df = pd.DataFrame({\n",
    "        'Column': valid_columns.index,\n",
    "        'Missing Percentage': valid_columns.values * 100  # Convert to percentage\n",
    "    })\n",
    "\n",
    "    # Display the list and table\n",
    "    print(\"Columns with 0% Missing Values:\", zero_missing_list)\n",
    "    print(\"Columns with >85% Missing Values:\", high_missing_list)\n",
    "\n",
    "    # Display the table with columns that have missing values less than 85% (excluding 0% missing)\n",
    "    html_table = valid_columns_df.to_html(index=False, escape=False)\n",
    "    display(HTML(f\"<h3>Columns with <85% Missing Values (excluding 0%)</h3>{html_table}\"))\n",
    "    \n",
    "    # Return the cleaned DataFrame with only valid columns\n",
    "    base_data_cleaned = base_data[valid_columns.index]\n",
    "    \n",
    "    return base_data_cleaned\n",
    "\n",
    "# Example usage\n",
    "base_data_cleaned = filter_columns_by_missing_values(base_data, threshold=0.85)\n"
   ]
  },
  {
   "cell_type": "code",
   "execution_count": null,
   "metadata": {},
   "outputs": [],
   "source": [
    "visualization.plot_missing_values_heatmap(base_data_cleaned)"
   ]
  },
  {
   "cell_type": "code",
   "execution_count": null,
   "metadata": {},
   "outputs": [],
   "source": [
    "visualization.plot_tcp_source_ports(base_data)"
   ]
  },
  {
   "cell_type": "code",
   "execution_count": null,
   "metadata": {},
   "outputs": [],
   "source": [
    "visualization.plot_udp_source_ports(base_data)"
   ]
  },
  {
   "cell_type": "code",
   "execution_count": null,
   "metadata": {},
   "outputs": [],
   "source": [
    "visualization.plot_top_ip_addresses(base_data)"
   ]
  },
  {
   "cell_type": "code",
   "execution_count": null,
   "metadata": {},
   "outputs": [],
   "source": [
    "visualization.plot_top_ip_dest_addresses(base_data)"
   ]
  },
  {
   "cell_type": "code",
   "execution_count": null,
   "metadata": {},
   "outputs": [],
   "source": [
    "visualization.plot_tcp_flags_distribution(base_data)"
   ]
  },
  {
   "cell_type": "code",
   "execution_count": null,
   "metadata": {},
   "outputs": [],
   "source": [
    "visualization.plot_dns_queries(base_data)"
   ]
  },
  {
   "cell_type": "code",
   "execution_count": null,
   "metadata": {},
   "outputs": [],
   "source": [
    "visualization.plot_correlation_matrix(base_data)"
   ]
  },
  {
   "cell_type": "code",
   "execution_count": null,
   "metadata": {},
   "outputs": [],
   "source": [
    "visualization.plot_tcp_stream_time_series(base_data)"
   ]
  },
  {
   "cell_type": "code",
   "execution_count": null,
   "metadata": {},
   "outputs": [],
   "source": [
    "visualization.plot_distribution(base_data)"
   ]
  }
 ],
 "metadata": {
  "kernelspec": {
   "display_name": ".venv",
   "language": "python",
   "name": "python3"
  },
  "language_info": {
   "codemirror_mode": {
    "name": "ipython",
    "version": 3
   },
   "file_extension": ".py",
   "mimetype": "text/x-python",
   "name": "python",
   "nbconvert_exporter": "python",
   "pygments_lexer": "ipython3",
   "version": "3.12.7"
  }
 },
 "nbformat": 4,
 "nbformat_minor": 2
}
